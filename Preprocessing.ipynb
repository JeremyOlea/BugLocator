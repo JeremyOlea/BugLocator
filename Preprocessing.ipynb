{
 "cells": [
  {
   "cell_type": "markdown",
   "metadata": {},
   "source": [
    "<center><h1>Step 0 - Preprocessing</h1></center> "
   ]
  },
  {
   "cell_type": "markdown",
   "metadata": {},
   "source": [
    "In this section, we first read the data including the bug reports and source code files of all 12 projects and for ease of access, we save them as two pickle files in the ./Data directory. Therefore, this set of code will populate the ./Data directory with \"allBugReports.pickle\" which is a pandas dataframe that contains all the bug reports from all projects and \"allSourceCodes.pickle\" which is a pandas dataframe that contains all source files after preprocessing."
   ]
  },
  {
   "cell_type": "markdown",
   "metadata": {},
   "source": [
    "### Required Libraries"
   ]
  },
  {
   "cell_type": "code",
   "execution_count": 3,
   "metadata": {},
   "outputs": [
    {
     "name": "stdout",
     "output_type": "stream",
     "text": [
      "Requirement already satisfied: javalang in /Library/Frameworks/Python.framework/Versions/3.9/lib/python3.9/site-packages (0.13.0)\n",
      "Requirement already satisfied: six in /Library/Frameworks/Python.framework/Versions/3.9/lib/python3.9/site-packages (from javalang) (1.16.0)\n",
      "\u001b[33mWARNING: You are using pip version 21.2.4; however, version 21.3.1 is available.\n",
      "You should consider upgrading via the '/Library/Frameworks/Python.framework/Versions/3.9/bin/python3 -m pip install --upgrade pip' command.\u001b[0m\n"
     ]
    }
   ],
   "source": [
    "!pip install javalang"
   ]
  },
  {
   "cell_type": "code",
   "execution_count": 4,
   "metadata": {},
   "outputs": [],
   "source": [
    "from __future__ import division\n",
    "import pandas as pd\n",
    "import numpy as np\n",
    "import os\n",
    "from os import listdir\n",
    "from os.path import isfile, join\n",
    "import nltk\n",
    "from nltk.corpus import stopwords \n",
    "from nltk.tokenize import word_tokenize \n",
    "from nltk.stem import PorterStemmer\n",
    "import warnings\n",
    "import javalang\n",
    "import re\n",
    "import glob\n",
    "import math\n",
    "import time\n",
    "from scipy import spatial\n",
    "import scipy.spatial.distance\n",
    "import xml.etree.ElementTree as ET\n",
    "import requests\n",
    "import multiprocessing\n",
    "from tqdm.notebook import tqdm as tq\n",
    "from time import gmtime, strftime\n",
    "from random import randint\n",
    "warnings.simplefilter(action='ignore', category=FutureWarning)"
   ]
  },
  {
   "cell_type": "markdown",
   "metadata": {},
   "source": [
    "<center><h1>Splitting code and natural language</h1></center> "
   ]
  },
  {
   "cell_type": "markdown",
   "metadata": {},
   "source": [
    "<center><h1>Loading source codes into pandas Dataframe</h1></center> "
   ]
  },
  {
   "cell_type": "code",
   "execution_count": 5,
   "metadata": {},
   "outputs": [],
   "source": [
    "def classNames_methodNames(node):\n",
    "    result=''\n",
    "    if isinstance(node,javalang.tree.MethodDeclaration) or isinstance(node,javalang.tree.ClassDeclaration):\n",
    "        return node.name.lower()+' '\n",
    "    if not (isinstance(node,javalang.tree.PackageDeclaration) or\n",
    "        isinstance(node,javalang.tree.FormalParameter) or\n",
    "       isinstance(node,javalang.tree.Import)):\n",
    "        if node:\n",
    "            if isinstance(node, javalang.ast.Node):\n",
    "                for childNode in node.children:\n",
    "                    result+=classNames_methodNames(childNode)\n",
    "    return result\n",
    "    \n",
    "def traverse_node(node,i=0):\n",
    "    i+=1\n",
    "    result=''\n",
    "    if not(isinstance(node,javalang.tree.PackageDeclaration)\n",
    "            or isinstance(node,javalang.tree.FormalParameter)            \n",
    "            or isinstance(node,javalang.tree.Import)\n",
    "            or isinstance(node,javalang.tree.CompilationUnit)):\n",
    "        if node:\n",
    "            if (isinstance(node,int) or isinstance(node,str) or isinstance(node,float)) and i==2:\n",
    "                result+=node+' '\n",
    "            if isinstance(node, javalang.ast.Node):\n",
    "                for childNode in node.children:\n",
    "                    result+=traverse_node(childNode,i)\n",
    "    return result\n",
    "\n",
    "def code_parser(code):\n",
    "    try:\n",
    "        tree = javalang.parse.parse(code)\n",
    "        return ''.join([traverse_node(node) for path, node in tree]) + ' ' + ''.join([classNames_methodNames(node)\n",
    "                                                                                      for path, node in tree])\n",
    "    except Exception as e: \n",
    "        print(e)\n",
    "        return ''\n",
    "\n",
    "\n",
    "def loadSourceFiles2df(PATH,project):\n",
    "    \"\"\"\n",
    "    Receives: group name and project name \n",
    "    Process: open the source file directory and finds all the java files,\n",
    "             and after preprocessing(using code_preprocessor) load them into a pandas dataframe \n",
    "    Returns: dataframe >> \"filename\",\"code\",\"size\"\n",
    "    \"\"\"\n",
    "    print('Loading source files of {}  ...'.format(project))\n",
    "    PATH=os.path.join(\"data\",project,\"gitrepo\")\n",
    "    all_source_files=glob.glob(PATH+'/**/*.java', recursive=True)\n",
    "    source_codes_df=pd.DataFrame([])\n",
    "    sourceCodesList=[]\n",
    "\n",
    "    for filename in tq(all_source_files):\n",
    "        code=open(filename,encoding='ISO-8859-1').read()\n",
    "        if 'src/' in filename:\n",
    "            sourceCodesList.append(dict({\"filename\":filename.split('src/')[1].replace('/','.').lower(),\n",
    "                                         \"unprocessed_code\":code,\n",
    "                                         'project':project}))\n",
    "        else:\n",
    "            sourceCodesList.append(dict({\"filename\":filename.split(project)[1].replace('/','.').lower(),\n",
    "                                         \"unprocessed_code\":code,\n",
    "                                         'project':project}))\n",
    "    source_codes_df=source_codes_df.append(pd.DataFrame(sourceCodesList))\n",
    "    return source_codes_df\n",
    "\n",
    "def load_all_SCs(dataPath):\n",
    "    print('\\tLoading all source codes ... ')\n",
    "    source_codes_df=pd.DataFrame([])\n",
    "    all_projects= [folder for folder in listdir(dataPath)]\n",
    "    for project in all_projects:\n",
    "        source_path=os.path.join(dataPath,project,\"gitrepo\")\n",
    "        source_codes_df=source_codes_df.append(loadSourceFiles2df(source_path,project))\n",
    "    return source_codes_df"
   ]
  },
  {
   "cell_type": "markdown",
   "metadata": {},
   "source": [
    "<center><h1>Loading bug reports pandas Dataframe</h1></center> "
   ]
  },
  {
   "cell_type": "code",
   "execution_count": 6,
   "metadata": {},
   "outputs": [],
   "source": [
    "def loadBugs2df(PATH,project):\n",
    "    \"\"\"\n",
    "    @Receives: the path to bug repository (the xml file)\n",
    "    @Process: Parses the xml file and reads the fix files per bug id. \n",
    "    @Returns: Returns the dataframe\n",
    "    \"\"\"\n",
    "    print(\"Loading Bug reports ... \")\n",
    "    all_bugs_df=pd.DataFrame([],columns=[\"id\",\"fix\",\"text\",\"fixdate\"])\n",
    "    bugRepo = ET.parse(PATH).getroot()\n",
    "    buglist=[]                   \n",
    "    for bug in tq(bugRepo.findall('bug')):\n",
    "        bugDict=dict({\"id\":bug.attrib['id'],\"fix\":[],\"fixdate\":bug.attrib['fixdate']\n",
    "                      ,\"summary\":None,\"description\":None,\"project\":project,\"average_precision\":0.0})\n",
    "        for bugDetail in bug.find('buginformation'):\n",
    "            if bugDetail.tag=='summary':\n",
    "                bugDict[\"summary\"]=bugDetail.text\n",
    "            elif bugDetail.tag=='description':\n",
    "                bugDict[\"description\"]=bugDetail.text\n",
    "        bugDict[\"fix\"]=np.array([fixFile.text.replace('/','.').lower() for fixFile in bug.find('fixedFiles')])\n",
    "        summary=str(bugDict['summary']) if str(bugDict['summary']) !=np.nan else \"\"\n",
    "        description=str(bugDict['description']) if str(bugDict['description']) !=np.nan else \"\"\n",
    "        buglist.append(bugDict)\n",
    "    all_bugs_df=all_bugs_df.append(pd.DataFrame(buglist))\n",
    "    return all_bugs_df.set_index('id')\n",
    "\n",
    "def load_all_BRs(dataPath):\n",
    "    print('\\tLoading all bug reports ... ')\n",
    "    all_bugs_df=pd.DataFrame([])\n",
    "    all_projects= [folder for folder in listdir(dataPath)]\n",
    "    for project in all_projects:\n",
    "        data_path=os.path.join(dataPath,project,\"bugrepo\",\"repository.xml\")\n",
    "        all_bugs_df=all_bugs_df.append(loadBugs2df(data_path,project))\n",
    "        print(len(all_bugs_df))\n",
    "    return all_bugs_df\n",
    "\n"
   ]
  },
  {
   "cell_type": "markdown",
   "metadata": {},
   "source": [
    "\n",
    "<center><h1>Main Preprocessing class</h1></center> "
   ]
  },
  {
   "cell_type": "code",
   "execution_count": 7,
   "metadata": {},
   "outputs": [],
   "source": [
    "class PreprocessingUnit:\n",
    "\n",
    "    all_projects_source_codes=pd.DataFrame([])\n",
    "    all_projects_bugreports=pd.DataFrame([])\n",
    "    \n",
    "    def __init__(self,dataPath):\n",
    "\n",
    "        self.dataPath=dataPath\n",
    "        self.dataFolder=os.path.join(os.getcwd(),'Output')\n",
    "        if not os.path.exists(self.dataFolder):\n",
    "            os.makedirs(self.dataFolder)\n",
    "            \n",
    "    def execute(self):\n",
    "\n",
    "        self.loadEverything()\n",
    "\n",
    "    def loadEverything(self):\n",
    "        vectorize=False\n",
    "        if PreprocessingUnit.all_projects_bugreports.empty:\n",
    "            bugReportFile=os.path.join(self.dataFolder,'allBugReports.pickle')\n",
    "            if not os.path.isfile(bugReportFile):\n",
    "                PreprocessingUnit.all_projects_bugreports=load_all_BRs(dataPath=self.dataPath)\n",
    "                vectorize=True\n",
    "                PreprocessingUnit.all_projects_bugreports.to_pickle(bugReportFile)\n",
    "            else: \n",
    "                PreprocessingUnit.all_projects_bugreports=pd.read_pickle(bugReportFile)\n",
    "        print(\"*** All bug reports are are preprocessed and stored as: {} ***\".format('/'.join(bugReportFile.split('/')[-2:])))\n",
    "\n",
    "        if PreprocessingUnit.all_projects_source_codes.empty:\n",
    "            sourceCodeFile=os.path.join(self.dataFolder,'allSourceCodes.pickle')\n",
    "            if not os.path.isfile(sourceCodeFile):\n",
    "                PreprocessingUnit.all_projects_source_codes=load_all_SCs(dataPath=self.dataPath)\n",
    "                vectorize=True\n",
    "                PreprocessingUnit.all_projects_source_codes.to_pickle(sourceCodeFile)\n",
    "            else:\n",
    "                PreprocessingUnit.all_projects_source_codes=pd.read_pickle(sourceCodeFile)\n",
    "        print(\"*** All source codes are preprocessed and stored as: {} ***\".format('/'.join(sourceCodeFile.split('/')[-2:])))\n",
    "        "
   ]
  },
  {
   "cell_type": "markdown",
   "metadata": {},
   "source": [
    "### MAIN"
   ]
  },
  {
   "cell_type": "code",
   "execution_count": 8,
   "metadata": {},
   "outputs": [
    {
     "name": "stdout",
     "output_type": "stream",
     "text": [
      "\tLoading all bug reports ... \n",
      "Loading Bug reports ... \n"
     ]
    },
    {
     "data": {
      "application/vnd.jupyter.widget-view+json": {
       "model_id": "f35bc3be117846bd9e52fa1ee7910231",
       "version_major": 2,
       "version_minor": 0
      },
      "text/plain": [
       "  0%|          | 0/132 [00:00<?, ?it/s]"
      ]
     },
     "metadata": {},
     "output_type": "display_data"
    },
    {
     "name": "stdout",
     "output_type": "stream",
     "text": [
      "132\n",
      "Loading Bug reports ... \n"
     ]
    },
    {
     "data": {
      "application/vnd.jupyter.widget-view+json": {
       "model_id": "9a4645453cc142f7967a8132cbf8c361",
       "version_major": 2,
       "version_minor": 0
      },
      "text/plain": [
       "  0%|          | 0/133 [00:00<?, ?it/s]"
      ]
     },
     "metadata": {},
     "output_type": "display_data"
    },
    {
     "name": "stdout",
     "output_type": "stream",
     "text": [
      "265\n",
      "Loading Bug reports ... \n"
     ]
    },
    {
     "data": {
      "application/vnd.jupyter.widget-view+json": {
       "model_id": "8734706706fa428dafbd02ab68b5f750",
       "version_major": 2,
       "version_minor": 0
      },
      "text/plain": [
       "  0%|          | 0/541 [00:00<?, ?it/s]"
      ]
     },
     "metadata": {},
     "output_type": "display_data"
    },
    {
     "name": "stdout",
     "output_type": "stream",
     "text": [
      "806\n",
      "Loading Bug reports ... \n"
     ]
    },
    {
     "data": {
      "application/vnd.jupyter.widget-view+json": {
       "model_id": "2aa96c4a54c245bb8deff0754c208620",
       "version_major": 2,
       "version_minor": 0
      },
      "text/plain": [
       "  0%|          | 0/53 [00:00<?, ?it/s]"
      ]
     },
     "metadata": {},
     "output_type": "display_data"
    },
    {
     "name": "stdout",
     "output_type": "stream",
     "text": [
      "859\n",
      "Loading Bug reports ... \n"
     ]
    },
    {
     "data": {
      "application/vnd.jupyter.widget-view+json": {
       "model_id": "887fc07fb7ce43cdaa816f7df05f0720",
       "version_major": 2,
       "version_minor": 0
      },
      "text/plain": [
       "  0%|          | 0/91 [00:00<?, ?it/s]"
      ]
     },
     "metadata": {},
     "output_type": "display_data"
    },
    {
     "name": "stdout",
     "output_type": "stream",
     "text": [
      "950\n",
      "Loading Bug reports ... \n"
     ]
    },
    {
     "data": {
      "application/vnd.jupyter.widget-view+json": {
       "model_id": "b81c03e491e346c1b6c83c1d96167f26",
       "version_major": 2,
       "version_minor": 0
      },
      "text/plain": [
       "  0%|          | 0/25 [00:00<?, ?it/s]"
      ]
     },
     "metadata": {},
     "output_type": "display_data"
    },
    {
     "name": "stdout",
     "output_type": "stream",
     "text": [
      "975\n",
      "Loading Bug reports ... \n"
     ]
    },
    {
     "data": {
      "application/vnd.jupyter.widget-view+json": {
       "model_id": "375d1e06998a48298be336a4e9fe9e1c",
       "version_major": 2,
       "version_minor": 0
      },
      "text/plain": [
       "  0%|          | 0/217 [00:00<?, ?it/s]"
      ]
     },
     "metadata": {},
     "output_type": "display_data"
    },
    {
     "name": "stdout",
     "output_type": "stream",
     "text": [
      "1192\n",
      "Loading Bug reports ... \n"
     ]
    },
    {
     "data": {
      "application/vnd.jupyter.widget-view+json": {
       "model_id": "69b8e5b0c4a04f46ac877dde0a94a0b1",
       "version_major": 2,
       "version_minor": 0
      },
      "text/plain": [
       "  0%|          | 0/130 [00:00<?, ?it/s]"
      ]
     },
     "metadata": {},
     "output_type": "display_data"
    },
    {
     "name": "stdout",
     "output_type": "stream",
     "text": [
      "1322\n",
      "Loading Bug reports ... \n"
     ]
    },
    {
     "data": {
      "application/vnd.jupyter.widget-view+json": {
       "model_id": "15332ef129be4f1fac033c343e23ba2d",
       "version_major": 2,
       "version_minor": 0
      },
      "text/plain": [
       "  0%|          | 0/158 [00:00<?, ?it/s]"
      ]
     },
     "metadata": {},
     "output_type": "display_data"
    },
    {
     "name": "stdout",
     "output_type": "stream",
     "text": [
      "1480\n",
      "Loading Bug reports ... \n"
     ]
    },
    {
     "data": {
      "application/vnd.jupyter.widget-view+json": {
       "model_id": "29414cf2df6b459d9857850824607c45",
       "version_major": 2,
       "version_minor": 0
      },
      "text/plain": [
       "  0%|          | 0/15 [00:00<?, ?it/s]"
      ]
     },
     "metadata": {},
     "output_type": "display_data"
    },
    {
     "name": "stdout",
     "output_type": "stream",
     "text": [
      "1495\n",
      "Loading Bug reports ... \n"
     ]
    },
    {
     "data": {
      "application/vnd.jupyter.widget-view+json": {
       "model_id": "d136c16913b04a6d82b13f4f3d2a2032",
       "version_major": 2,
       "version_minor": 0
      },
      "text/plain": [
       "  0%|          | 0/271 [00:00<?, ?it/s]"
      ]
     },
     "metadata": {},
     "output_type": "display_data"
    },
    {
     "name": "stdout",
     "output_type": "stream",
     "text": [
      "1766\n",
      "Loading Bug reports ... \n"
     ]
    },
    {
     "data": {
      "application/vnd.jupyter.widget-view+json": {
       "model_id": "e4010f40188f420289f60e78bb49f5fc",
       "version_major": 2,
       "version_minor": 0
      },
      "text/plain": [
       "  0%|          | 0/92 [00:00<?, ?it/s]"
      ]
     },
     "metadata": {},
     "output_type": "display_data"
    },
    {
     "name": "stdout",
     "output_type": "stream",
     "text": [
      "1858\n",
      "*** All bug reports are are preprocessed and stored as: Output/allBugReports.pickle ***\n",
      "\tLoading all source codes ... \n",
      "Loading source files of DATAREST  ...\n"
     ]
    },
    {
     "data": {
      "application/vnd.jupyter.widget-view+json": {
       "model_id": "fa5e2b047bf54bfe8fad3055736ac4c4",
       "version_major": 2,
       "version_minor": 0
      },
      "text/plain": [
       "  0%|          | 0/348 [00:00<?, ?it/s]"
      ]
     },
     "metadata": {},
     "output_type": "display_data"
    },
    {
     "name": "stdout",
     "output_type": "stream",
     "text": [
      "Loading source files of CONFIGURATION  ...\n"
     ]
    },
    {
     "data": {
      "application/vnd.jupyter.widget-view+json": {
       "model_id": "cdc299f312f24487932726bfbaec1fcf",
       "version_major": 2,
       "version_minor": 0
      },
      "text/plain": [
       "  0%|          | 0/224 [00:00<?, ?it/s]"
      ]
     },
     "metadata": {},
     "output_type": "display_data"
    },
    {
     "name": "stdout",
     "output_type": "stream",
     "text": [
      "Loading source files of SEC  ...\n"
     ]
    },
    {
     "data": {
      "application/vnd.jupyter.widget-view+json": {
       "model_id": "e450556c2f634f8482c3978a88ee0b88",
       "version_major": 2,
       "version_minor": 0
      },
      "text/plain": [
       "  0%|          | 0/1400 [00:00<?, ?it/s]"
      ]
     },
     "metadata": {},
     "output_type": "display_data"
    },
    {
     "name": "stdout",
     "output_type": "stream",
     "text": [
      "Loading source files of LDAP  ...\n"
     ]
    },
    {
     "data": {
      "application/vnd.jupyter.widget-view+json": {
       "model_id": "3daf28241da944daa97b90b405d044e0",
       "version_major": 2,
       "version_minor": 0
      },
      "text/plain": [
       "  0%|          | 0/566 [00:00<?, ?it/s]"
      ]
     },
     "metadata": {},
     "output_type": "display_data"
    },
    {
     "name": "stdout",
     "output_type": "stream",
     "text": [
      "Loading source files of IO  ...\n"
     ]
    },
    {
     "data": {
      "application/vnd.jupyter.widget-view+json": {
       "model_id": "2235f057f8b944278bb6cefde431d450",
       "version_major": 2,
       "version_minor": 0
      },
      "text/plain": [
       "  0%|          | 0/81 [00:00<?, ?it/s]"
      ]
     },
     "metadata": {},
     "output_type": "display_data"
    },
    {
     "name": "stdout",
     "output_type": "stream",
     "text": [
      "Loading source files of ELY  ...\n"
     ]
    },
    {
     "data": {
      "application/vnd.jupyter.widget-view+json": {
       "model_id": "9f145614e82b497995c03793043cc086",
       "version_major": 2,
       "version_minor": 0
      },
      "text/plain": [
       "  0%|          | 0/68 [00:00<?, ?it/s]"
      ]
     },
     "metadata": {},
     "output_type": "display_data"
    },
    {
     "name": "stdout",
     "output_type": "stream",
     "text": [
      "Loading source files of LANG  ...\n"
     ]
    },
    {
     "data": {
      "application/vnd.jupyter.widget-view+json": {
       "model_id": "78699c51a2b74b999c20cc12d13a21f7",
       "version_major": 2,
       "version_minor": 0
      },
      "text/plain": [
       "  0%|          | 0/247 [00:00<?, ?it/s]"
      ]
     },
     "metadata": {},
     "output_type": "display_data"
    },
    {
     "name": "stdout",
     "output_type": "stream",
     "text": [
      "Loading source files of SPR  ...\n"
     ]
    },
    {
     "data": {
      "application/vnd.jupyter.widget-view+json": {
       "model_id": "0f665dc659364110b510c445df8aac19",
       "version_major": 2,
       "version_minor": 0
      },
      "text/plain": [
       "  0%|          | 0/5898 [00:00<?, ?it/s]"
      ]
     },
     "metadata": {},
     "output_type": "display_data"
    },
    {
     "name": "stdout",
     "output_type": "stream",
     "text": [
      "Loading source files of DATACMNS  ...\n"
     ]
    },
    {
     "data": {
      "application/vnd.jupyter.widget-view+json": {
       "model_id": "f126f91003bd4159870d679e98f9fc75",
       "version_major": 2,
       "version_minor": 0
      },
      "text/plain": [
       "  0%|          | 0/552 [00:00<?, ?it/s]"
      ]
     },
     "metadata": {},
     "output_type": "display_data"
    },
    {
     "name": "stdout",
     "output_type": "stream",
     "text": [
      "Loading source files of SOCIALFB  ...\n"
     ]
    },
    {
     "data": {
      "application/vnd.jupyter.widget-view+json": {
       "model_id": "dcc62ce4dc694e7da3745daa38ece884",
       "version_major": 2,
       "version_minor": 0
      },
      "text/plain": [
       "  0%|          | 0/253 [00:00<?, ?it/s]"
      ]
     },
     "metadata": {},
     "output_type": "display_data"
    },
    {
     "name": "stdout",
     "output_type": "stream",
     "text": [
      "Loading source files of DATAMONGO  ...\n"
     ]
    },
    {
     "data": {
      "application/vnd.jupyter.widget-view+json": {
       "model_id": "073dda48b4a949eda3e38bfd6dcf2a76",
       "version_major": 2,
       "version_minor": 0
      },
      "text/plain": [
       "  0%|          | 0/348 [00:00<?, ?it/s]"
      ]
     },
     "metadata": {},
     "output_type": "display_data"
    },
    {
     "name": "stdout",
     "output_type": "stream",
     "text": [
      "Loading source files of COLLECTIONS  ...\n"
     ]
    },
    {
     "data": {
      "application/vnd.jupyter.widget-view+json": {
       "model_id": "5ea45594c5624ff3a429ac464c897a0f",
       "version_major": 2,
       "version_minor": 0
      },
      "text/plain": [
       "  0%|          | 0/476 [00:00<?, ?it/s]"
      ]
     },
     "metadata": {},
     "output_type": "display_data"
    },
    {
     "name": "stdout",
     "output_type": "stream",
     "text": [
      "*** All source codes are preprocessed and stored as: Output/allSourceCodes.pickle ***\n"
     ]
    }
   ],
   "source": [
    "if __name__==\"__main__\":\n",
    "\n",
    "    config={'DATA_PATH':os.path.join('data')}\n",
    "    preprocessor=PreprocessingUnit(dataPath=config['DATA_PATH'])\n",
    "    preprocessor.execute()\n",
    "   \n"
   ]
  },
  {
   "cell_type": "code",
   "execution_count": 9,
   "metadata": {},
   "outputs": [
    {
     "name": "stdout",
     "output_type": "stream",
     "text": [
      "*** All Bug Reports are Loaded. ***\n",
      "*** All Source Codes are Loaded. ***\n"
     ]
    },
    {
     "data": {
      "text/plain": [
       "fix                  [org.springframework.data.rest.webmvc.config.r...\n",
       "text                                                               NaN\n",
       "fixdate                                            2013-12-04 22:53:11\n",
       "summary              Collection/Object conversion broken in Persist...\n",
       "description          I am trying to post to localhost:8080/credenti...\n",
       "project                                                       DATAREST\n",
       "average_precision                                                  0.0\n",
       "Name: 199, dtype: object"
      ]
     },
     "metadata": {},
     "output_type": "display_data"
    },
    {
     "data": {
      "text/plain": [
       "'/*\\n * Copyright 2012-2015 the original author or authors.\\n *\\n * Licensed under the Apache License, Version 2.0 (the \"License\");\\n * you may not use this file except in compliance with the License.\\n * You may obtain a copy of the License at\\n *\\n *      http://www.apache.org/licenses/LICENSE-2.0\\n *\\n * Unless required by applicable law or agreed to in writing, software\\n * distributed under the License is distributed on an \"AS IS\" BASIS,\\n * WITHOUT WARRANTIES OR CONDITIONS OF ANY KIND, either express or implied.\\n * See the License for the specific language governing permissions and\\n * limitations under the License.\\n */\\npackage org.springframework.data.rest.webmvc;\\n\\nimport static org.hamcrest.Matchers.*;\\nimport static org.junit.Assert.*;\\nimport static org.mockito.Matchers.*;\\nimport static org.mockito.Mockito.*;\\nimport static org.springframework.data.rest.webmvc.HttpEntityMatcher.*;\\nimport static org.springframework.util.ReflectionUtils.*;\\n\\nimport java.lang.reflect.Method;\\nimport java.util.ArrayList;\\nimport java.util.Collections;\\nimport java.util.HashMap;\\nimport java.util.List;\\nimport java.util.Map;\\n\\nimport org.hamcrest.Matcher;\\nimport org.junit.Before;\\nimport org.junit.Test;\\nimport org.junit.runner.RunWith;\\nimport org.mockito.Mock;\\nimport org.mockito.Mockito;\\nimport org.mockito.runners.MockitoJUnitRunner;\\nimport org.springframework.core.MethodParameter;\\nimport org.springframework.data.projection.ProjectionFactory;\\nimport org.springframework.data.projection.SpelAwareProxyProjectionFactory;\\nimport org.springframework.data.rest.webmvc.ResourceProcessorHandlerMethodReturnValueHandler.ResourcesProcessorWrapper;\\nimport org.springframework.data.util.ClassTypeInformation;\\nimport org.springframework.data.util.TypeInformation;\\nimport org.springframework.hateoas.Link;\\nimport org.springframework.hateoas.PagedResources;\\nimport org.springframework.hateoas.PagedResources.PageMetadata;\\nimport org.springframework.hateoas.Resource;\\nimport org.springframework.hateoas.ResourceProcessor;\\nimport org.springframework.hateoas.Resources;\\nimport org.springframework.hateoas.core.EmbeddedWrappers;\\nimport org.springframework.hateoas.mvc.HeaderLinksResponseEntity;\\nimport org.springframework.http.HttpEntity;\\nimport org.springframework.http.HttpStatus;\\nimport org.springframework.http.ResponseEntity;\\nimport org.springframework.util.ReflectionUtils.MethodCallback;\\nimport org.springframework.web.context.request.NativeWebRequest;\\nimport org.springframework.web.method.support.HandlerMethodReturnValueHandler;\\nimport org.springframework.web.method.support.ModelAndViewContainer;\\n\\n/**\\n * Unit tests for {@link org.springframework.data.rest.webmvc.ResourceProcessorHandlerMethodReturnValueHandler}.\\n * \\n * @author Oliver Gierke\\n * @author Jon Brisbin\\n */\\n@RunWith(MockitoJUnitRunner.class)\\npublic class ResourceProcessorHandlerMethodReturnValueHandlerUnitTests {\\n\\n\\tstatic final Resource<String> FOO = new Resource<String>(\"foo\");\\n\\tstatic final Resources<Resource<String>> FOOS = new Resources<Resource<String>>(Collections.singletonList(FOO));\\n\\tstatic final PagedResources<Resource<String>> FOO_PAGE = new PagedResources<Resource<String>>(\\n\\t\\t\\tCollections.singleton(FOO), new PageMetadata(1, 0, 10));\\n\\tstatic final StringResource FOO_RES = new StringResource(\"foo\");\\n\\tstatic final HttpEntity<Resource<String>> FOO_ENTITY = new HttpEntity<Resource<String>>(FOO);\\n\\tstatic final ResponseEntity<Resource<String>> FOO_RESP_ENTITY = new ResponseEntity<Resource<String>>(FOO,\\n\\t\\t\\tHttpStatus.OK);\\n\\tstatic final HttpEntity<StringResource> FOO_RES_ENTITY = new HttpEntity<StringResource>(FOO_RES);\\n\\tstatic final Resource<String> BAR = new Resource<String>(\"bar\");\\n\\tstatic final Resources<Resource<String>> BARS = new Resources<Resource<String>>(Collections.singletonList(BAR));\\n\\tstatic final StringResource BAR_RES = new StringResource(\"bar\");\\n\\tstatic final HttpEntity<Resource<String>> BAR_ENTITY = new HttpEntity<Resource<String>>(BAR);\\n\\tstatic final ResponseEntity<Resource<String>> BAR_RESP_ENTITY = new ResponseEntity<Resource<String>>(BAR,\\n\\t\\t\\tHttpStatus.OK);\\n\\tstatic final HttpEntity<StringResource> BAR_RES_ENTITY = new HttpEntity<StringResource>(BAR_RES);\\n\\tstatic final Resource<Long> LONG_10 = new Resource<Long>(10L);\\n\\tstatic final Resource<Long> LONG_20 = new Resource<Long>(20L);\\n\\tstatic final LongResource LONG_10_RES = new LongResource(10L);\\n\\tstatic final LongResource LONG_20_RES = new LongResource(20L);\\n\\tstatic final HttpEntity<Resource<Long>> LONG_10_ENTITY = new HttpEntity<Resource<Long>>(LONG_10);\\n\\tstatic final HttpEntity<LongResource> LONG_10_RES_ENTITY = new HttpEntity<LongResource>(LONG_10_RES);\\n\\tstatic final HttpEntity<Resource<Long>> LONG_20_ENTITY = new HttpEntity<Resource<Long>>(LONG_20);\\n\\tstatic final HttpEntity<LongResource> LONG_20_RES_ENTITY = new HttpEntity<LongResource>(LONG_20_RES);\\n\\tstatic final Map<String, MethodParameter> METHOD_PARAMS = new HashMap<String, MethodParameter>();\\n\\n\\tstatic {\\n\\t\\tdoWithMethods(Controller.class, new MethodCallback() {\\n\\t\\t\\t@Override\\n\\t\\t\\tpublic void doWith(Method method) throws IllegalArgumentException, IllegalAccessException {\\n\\t\\t\\t\\tMETHOD_PARAMS.put(method.getName(), new MethodParameter(method, -1));\\n\\t\\t\\t}\\n\\t\\t});\\n\\t}\\n\\n\\t@Mock HandlerMethodReturnValueHandler delegate;\\n\\tList<ResourceProcessor<?>> resourceProcessors;\\n\\n\\t@Before\\n\\tpublic void setUp() {\\n\\t\\tresourceProcessors = new ArrayList<ResourceProcessor<?>>();\\n\\t}\\n\\n\\t@Test\\n\\tpublic void supportsIfDelegateSupports() {\\n\\t\\tassertSupport(true);\\n\\t}\\n\\n\\t@Test\\n\\tpublic void doesNotSupportIfDelegateDoesNot() {\\n\\t\\tassertSupport(false);\\n\\t}\\n\\n\\t@Test\\n\\tpublic void postProcessesStringResource() throws Exception {\\n\\t\\tresourceProcessors.add(StringResourceProcessor.INSTANCE);\\n\\t\\tresourceProcessors.add(LongResourceProcessor.INSTANCE);\\n\\n\\t\\tinvokeReturnValueHandler(\"stringResourceEntity\", is(BAR), FOO);\\n\\t}\\n\\n\\t@Test\\n\\tpublic void postProcessesStringResourceInResponseEntity() throws Exception {\\n\\t\\tresourceProcessors.add(StringResourceProcessor.INSTANCE);\\n\\t\\tresourceProcessors.add(LongResourceProcessor.INSTANCE);\\n\\n\\t\\tinvokeReturnValueHandler(\"stringResourceEntity\", httpEntity(BAR_RESP_ENTITY), FOO_RESP_ENTITY);\\n\\t}\\n\\n\\t@Test\\n\\tpublic void postProcessesStringResourceInWildcardResponseEntity() throws Exception {\\n\\t\\tresourceProcessors.add(StringResourceProcessor.INSTANCE);\\n\\t\\tresourceProcessors.add(LongResourceProcessor.INSTANCE);\\n\\n\\t\\tinvokeReturnValueHandler(\"resourceEntity\", httpEntity(BAR_RESP_ENTITY), FOO_RESP_ENTITY);\\n\\t}\\n\\n\\t@Test\\n\\tpublic void postProcessesStringResources() throws Exception {\\n\\t\\tresourceProcessors.add(StringResourcesProcessor.INSTANCE);\\n\\t\\tresourceProcessors.add(LongResourceProcessor.INSTANCE);\\n\\n\\t\\tinvokeReturnValueHandler(\"resources\", is(BARS), FOOS);\\n\\t}\\n\\n\\t@Test\\n\\tpublic void postProcessesSpecializedStringResource() throws Exception {\\n\\t\\tresourceProcessors.add(SpecializedStringResourceProcessor.INSTANCE);\\n\\t\\tresourceProcessors.add(LongResourceProcessor.INSTANCE);\\n\\n\\t\\tinvokeReturnValueHandler(\"stringResourceEntity\", httpEntity(BAR_RES_ENTITY), FOO_RES_ENTITY);\\n\\t}\\n\\n\\t@Test\\n\\tpublic void postProcessesSpecializedStringUsingStringResourceProcessor() throws Exception {\\n\\t\\tresourceProcessors.add(StringResourceProcessor.INSTANCE);\\n\\t\\tresourceProcessors.add(LongResourceProcessor.INSTANCE);\\n\\n\\t\\tinvokeReturnValueHandler(\"specializedStringResourceEntity\", httpEntity(BAR_ENTITY), FOO_RES_ENTITY);\\n\\t}\\n\\n\\t@Test\\n\\tpublic void postProcessesLongResource() throws Exception {\\n\\t\\tresourceProcessors.add(StringResourceProcessor.INSTANCE);\\n\\t\\tresourceProcessors.add(LongResourceProcessor.INSTANCE);\\n\\n\\t\\tinvokeReturnValueHandler(\"longResource\", is(LONG_20), LONG_10);\\n\\t}\\n\\n\\t@Test\\n\\tpublic void postProcessesSpecializedLongResource() throws Exception {\\n\\t\\tresourceProcessors.add(StringResourceProcessor.INSTANCE);\\n\\t\\tresourceProcessors.add(SpecializedLongResourceProcessor.INSTANCE);\\n\\n\\t\\tinvokeReturnValueHandler(\"specializedLongResourceEntity\", httpEntity(LONG_20_RES_ENTITY), LONG_10_RES_ENTITY);\\n\\t}\\n\\n\\t@Test\\n\\tpublic void doesNotPostProcesseLongResourceWithSpecializedLongResourceProcessor() throws Exception {\\n\\t\\tresourceProcessors.add(StringResourceProcessor.INSTANCE);\\n\\t\\tresourceProcessors.add(SpecializedLongResourceProcessor.INSTANCE);\\n\\n\\t\\tinvokeReturnValueHandler(\"numberResourceEntity\", httpEntity(LONG_10_ENTITY), LONG_10_ENTITY);\\n\\t}\\n\\n\\t@Test\\n\\tpublic void postProcessesSpecializedLongResourceUsingLongResourceProcessor() throws Exception {\\n\\t\\tresourceProcessors.add(StringResourceProcessor.INSTANCE);\\n\\t\\tresourceProcessors.add(LongResourceProcessor.INSTANCE);\\n\\n\\t\\tinvokeReturnValueHandler(\"resourceEntity\", is(LONG_20), LONG_10_RES);\\n\\t}\\n\\n\\t@Test\\n\\tpublic void usesHeaderLinksResponseEntityIfConfigured() throws Exception {\\n\\n\\t\\tResource<String> resource = new Resource<String>(\"foo\", new Link(\"href\", \"rel\"));\\n\\t\\tMethodParameter parameter = METHOD_PARAMS.get(\"resource\");\\n\\n\\t\\tResourceProcessorHandlerMethodReturnValueHandler handler = new ResourceProcessorHandlerMethodReturnValueHandler(\\n\\t\\t\\t\\tdelegate, resourceProcessors);\\n\\t\\thandler.setRootLinksAsHeaders(true);\\n\\t\\thandler.handleReturnValue(resource, parameter, null, null);\\n\\n\\t\\tverify(delegate, times(1)).handleReturnValue(Mockito.any(HeaderLinksResponseEntity.class), eq(parameter),\\n\\t\\t\\t\\tMockito.any(ModelAndViewContainer.class), Mockito.any(NativeWebRequest.class));\\n\\t}\\n\\n\\t/**\\n\\t * @see DATAREST-331\\n\\t */\\n\\t@Test\\n\\tpublic void resourcesProcessorMatchesValueSubTypes() {\\n\\n\\t\\tTypeInformation<?> type = ClassTypeInformation.from(PagedStringResources.class);\\n\\t\\tassertThat(ResourcesProcessorWrapper.isValueTypeMatch(FOO_PAGE, type), is(true));\\n\\t}\\n\\n\\t/**\\n\\t * @see DATAREST-331\\n\\t */\\n\\t@Test\\n\\tpublic void invokesProcessorsForProjection() throws Exception {\\n\\n\\t\\tProjectionProcessor projectionProcessor = new ProjectionProcessor();\\n\\t\\tresourceProcessors.add(projectionProcessor);\\n\\n\\t\\tProjectionFactory factory = new SpelAwareProxyProjectionFactory();\\n\\t\\tSampleProjection projection = factory.createProjection(SampleProjection.class, new Sample());\\n\\t\\tResource<SampleProjection> resource = new Resource<SampleProjection>(projection);\\n\\n\\t\\tinvokeReturnValueHandler(\"object\", is(resource), resource);\\n\\t\\tassertThat(projectionProcessor.invoked, is(true));\\n\\t}\\n\\n\\t/**\\n\\t * @see DATAREST-331\\n\\t */\\n\\t@Test\\n\\tpublic void doesNotMatchOnNonMatchingResourcesTypes() throws Exception {\\n\\n\\t\\tResource<Object> resource = new Resource<Object>(new Object());\\n\\t\\tPagedResources<Resource<Object>> pagedResources = new PagedResources<Resource<Object>>(\\n\\t\\t\\t\\tCollections.singleton(resource), new PageMetadata(1, 0, 10));\\n\\n\\t\\tTypeInformation<?> type = ClassTypeInformation.from(RepositoryLinksResource.class);\\n\\t\\tassertThat(ResourcesProcessorWrapper.isValueTypeMatch(pagedResources, type), is(false));\\n\\t}\\n\\n\\t/**\\n\\t * @see DATAREST-479\\n\\t */\\n\\t@Test\\n\\tpublic void doesNotInvokeAProcessorForASpecializedType() throws Exception {\\n\\n\\t\\tEmbeddedWrappers wrappers = new EmbeddedWrappers(false);\\n\\t\\tResources<Object> value = new Resources<Object>(Collections.<Object> singleton(wrappers\\n\\t\\t\\t\\t.emptyCollectionOf(Object.class)));\\n\\t\\tResourcesProcessorWrapper wrapper = new ResourcesProcessorWrapper(new SpecialResourcesProcessor());\\n\\n\\t\\tTypeInformation<Object> typeInformation = ClassTypeInformation.fromReturnTypeOf(Controller.class\\n\\t\\t\\t\\t.getMethod(\"resourcesOfObject\"));\\n\\n\\t\\tassertThat(wrapper.supports(typeInformation, value), is(false));\\n\\t}\\n\\n\\t// Helpers ---------------------------------------------------------//\\n\\tprivate void invokeReturnValueHandler(String method, final Matcher<?> matcher, Object returnValue) throws Exception {\\n\\t\\tfinal MethodParameter methodParam = METHOD_PARAMS.get(method);\\n\\n\\t\\tif (methodParam == null) {\\n\\t\\t\\tthrow new IllegalArgumentException(\"Invalid method!\");\\n\\t\\t}\\n\\n\\t\\tHandlerMethodReturnValueHandler handler = new ResourceProcessorHandlerMethodReturnValueHandler(delegate,\\n\\t\\t\\t\\tresourceProcessors);\\n\\t\\thandler.handleReturnValue(returnValue, methodParam, null, null);\\n\\t}\\n\\n\\tprivate void assertSupport(boolean value) {\\n\\n\\t\\tfinal MethodParameter parameter = Mockito.mock(MethodParameter.class);\\n\\t\\twhen(delegate.supportsReturnType(Mockito.any(MethodParameter.class))).thenReturn(value);\\n\\n\\t\\tHandlerMethodReturnValueHandler handler = new ResourceProcessorHandlerMethodReturnValueHandler(delegate,\\n\\t\\t\\t\\tresourceProcessors);\\n\\n\\t\\tassertThat(handler.supportsReturnType(parameter), is(value));\\n\\t}\\n\\n\\tenum StringResourceProcessor implements ResourceProcessor<Resource<String>> {\\n\\t\\tINSTANCE;\\n\\n\\t\\t@Override\\n\\t\\tpublic Resource<String> process(Resource<String> resource) {\\n\\t\\t\\treturn BAR;\\n\\t\\t}\\n\\t}\\n\\n\\tenum LongResourceProcessor implements ResourceProcessor<Resource<Long>> {\\n\\t\\tINSTANCE;\\n\\n\\t\\t@Override\\n\\t\\tpublic Resource<Long> process(Resource<Long> resource) {\\n\\t\\t\\treturn LONG_20;\\n\\t\\t}\\n\\t}\\n\\n\\tenum StringResourcesProcessor implements ResourceProcessor<Resources<Resource<String>>> {\\n\\t\\tINSTANCE;\\n\\n\\t\\t@Override\\n\\t\\tpublic Resources<Resource<String>> process(Resources<Resource<String>> resource) {\\n\\t\\t\\treturn BARS;\\n\\t\\t}\\n\\t}\\n\\n\\tenum SpecializedStringResourceProcessor implements ResourceProcessor<StringResource> {\\n\\t\\tINSTANCE;\\n\\n\\t\\t@Override\\n\\t\\tpublic StringResource process(StringResource resource) {\\n\\t\\t\\treturn BAR_RES;\\n\\t\\t}\\n\\t}\\n\\n\\tenum SpecializedLongResourceProcessor implements ResourceProcessor<LongResource> {\\n\\t\\tINSTANCE;\\n\\n\\t\\t@Override\\n\\t\\tpublic LongResource process(LongResource resource) {\\n\\t\\t\\treturn LONG_20_RES;\\n\\t\\t}\\n\\t}\\n\\n\\tstatic interface Controller {\\n\\n\\t\\tResources<Resource<String>> resources();\\n\\n\\t\\tResource<String> resource();\\n\\n\\t\\tResource<Long> longResource();\\n\\n\\t\\tStringResource specializedResource();\\n\\n\\t\\tObject object();\\n\\n\\t\\tHttpEntity<Resource<?>> resourceEntity();\\n\\n\\t\\tHttpEntity<Resources<?>> resourcesEntity();\\n\\n\\t\\tHttpEntity<Object> objectEntity();\\n\\n\\t\\tHttpEntity<Resource<String>> stringResourceEntity();\\n\\n\\t\\tHttpEntity<Resource<? extends Number>> numberResourceEntity();\\n\\n\\t\\tHttpEntity<StringResource> specializedStringResourceEntity();\\n\\n\\t\\tHttpEntity<LongResource> specializedLongResourceEntity();\\n\\n\\t\\tResponseEntity<Resource<?>> resourceResponseEntity();\\n\\n\\t\\tResponseEntity<Resources<?>> resourcesResponseEntity();\\n\\n\\t\\tResources<Object> resourcesOfObject();\\n\\t}\\n\\n\\tstatic class StringResource extends Resource<String> {\\n\\t\\tpublic StringResource(String value) {\\n\\t\\t\\tsuper(value);\\n\\t\\t}\\n\\t}\\n\\n\\tstatic class LongResource extends Resource<Long> {\\n\\t\\tpublic LongResource(Long value) {\\n\\t\\t\\tsuper(value);\\n\\t\\t}\\n\\t}\\n\\n\\tstatic class PagedStringResources extends PagedResources<Resource<String>> {};\\n\\n\\tstatic class Sample {\\n\\n\\t}\\n\\n\\tstatic interface SampleProjection {\\n\\n\\t}\\n\\n\\tstatic class ProjectionProcessor implements ResourceProcessor<Resource<SampleProjection>> {\\n\\n\\t\\tboolean invoked = false;\\n\\n\\t\\t@Override\\n\\t\\tpublic Resource<SampleProjection> process(Resource<SampleProjection> resource) {\\n\\t\\t\\tthis.invoked = true;\\n\\t\\t\\treturn resource;\\n\\t\\t}\\n\\t}\\n\\n\\tstatic class SpecialResources extends Resources<Object> {\\n\\t\\tpublic SpecialResources() {\\n\\t\\t\\tsuper(Collections.emptyList());\\n\\t\\t}\\n\\t}\\n\\n\\tstatic class SpecialResourcesProcessor implements ResourceProcessor<SpecialResources> {\\n\\n\\t\\tboolean invoked = false;\\n\\n\\t\\t@Override\\n\\t\\tpublic SpecialResources process(SpecialResources resource) {\\n\\t\\t\\tthis.invoked = true;\\n\\t\\t\\treturn resource;\\n\\t\\t}\\n\\t}\\n}\\n'"
      ]
     },
     "metadata": {},
     "output_type": "display_data"
    }
   ],
   "source": [
    "def loadEverything():\n",
    "    all_projects_bugreports = pd.read_pickle('Output/allBugReports.pickle')\n",
    "    print(\"*** All Bug Reports are Loaded. ***\")\n",
    "    all_projects_source_codes = pd.read_pickle('Output/allSourceCodes.pickle')\n",
    "    print(\"*** All Source Codes are Loaded. ***\")\n",
    "    return all_projects_bugreports, all_projects_source_codes\n",
    "\n",
    "all_projects_bugreports, all_projects_source_codes = loadEverything()\n",
    "display(all_projects_bugreports.iloc[10])\n",
    "display(all_projects_source_codes.iloc[10].unprocessed_code)\n",
    "\n"
   ]
  },
  {
   "cell_type": "code",
   "execution_count": null,
   "metadata": {},
   "outputs": [],
   "source": []
  }
 ],
 "metadata": {
  "interpreter": {
   "hash": "aee8b7b246df8f9039afb4144a1f6fd8d2ca17a180786b69acc140d282b71a49"
  },
  "kernelspec": {
   "display_name": "Python 3.9.7 64-bit",
   "name": "python3"
  },
  "language_info": {
   "codemirror_mode": {
    "name": "ipython",
    "version": 3
   },
   "file_extension": ".py",
   "mimetype": "text/x-python",
   "name": "python",
   "nbconvert_exporter": "python",
   "pygments_lexer": "ipython3",
   "version": "3.9.7"
  }
 },
 "nbformat": 4,
 "nbformat_minor": 4
}
